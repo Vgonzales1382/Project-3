{
 "cells": [
  {
   "cell_type": "code",
   "execution_count": null,
   "id": "634c4911-633b-483c-af5f-191ef57168c8",
   "metadata": {},
   "outputs": [],
   "source": [
    "import requests\n",
    "import json\n",
    "from pprint import pprint"
   ]
  },
  {
   "cell_type": "code",
   "execution_count": null,
   "id": "80a9239a-e026-49e1-9f3c-f071221b829d",
   "metadata": {},
   "outputs": [],
   "source": [
    "# url =  'https://fnw-us.foreca.com/'\n",
    "# current_weather = '/api/v1/current/'\n",
    "# AQI_hourly = '/api/v1/air-quality/forecast/hourly/'\n",
    "# aqi_daily = '/api/v1/air-quality/forecast/daily/'\n",
    "# api_key = \"&apikey=\" + api_key"
   ]
  },
  {
   "cell_type": "code",
   "execution_count": null,
   "id": "24e51cd9-6452-40f4-8122-bb9dd78d8bb1",
   "metadata": {},
   "outputs": [],
   "source": [
    "url = 'https://www.airnowapi.org/'\n",
    "\n",
    "aqi_current_url  = 'aq/observation/latLong/current/?format=application/json'\n",
    "\n",
    "lat = '&latitude=' + latclick \n",
    "long = '&longitude=' + lonclick\n",
    "dist = '&distance=25'\n",
    "api_key = '&API_KEY=C039AA9D-04F5-4025-8A80-7C5C6792AA34'"
   ]
  },
  {
   "cell_type": "code",
   "execution_count": null,
   "id": "9c9d7b4a-0f96-4550-9341-23986b447062",
   "metadata": {},
   "outputs": [],
   "source": [
    "response = requests.get(url + aqi_current_url + lat + long + dist + api_key)"
   ]
  },
  {
   "cell_type": "code",
   "execution_count": null,
   "id": "978cd690-9de6-4fca-848e-73a38f699ff8",
   "metadata": {},
   "outputs": [],
   "source": [
    "data = response.json()\n",
    "pprint(data)"
   ]
  },
  {
   "cell_type": "code",
   "execution_count": null,
   "id": "28963247-225c-47f6-934a-9a871f8a7f4c",
   "metadata": {},
   "outputs": [],
   "source": [
    "print(f\"Movie was directed by {data['Director']}.\")\n",
    "print(f\"Movie was released in {data['Country']}.\")"
   ]
  }
 ],
 "metadata": {
  "kernelspec": {
   "display_name": "Python 3 (ipykernel)",
   "language": "python",
   "name": "python3"
  },
  "language_info": {
   "codemirror_mode": {
    "name": "ipython",
    "version": 3
   },
   "file_extension": ".py",
   "mimetype": "text/x-python",
   "name": "python",
   "nbconvert_exporter": "python",
   "pygments_lexer": "ipython3",
   "version": "3.9.7"
  }
 },
 "nbformat": 4,
 "nbformat_minor": 5
}
